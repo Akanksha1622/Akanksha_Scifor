{
 "cells": [
  {
   "cell_type": "markdown",
   "id": "9078e35b",
   "metadata": {},
   "source": [
    "# Explain Hybrid inheritance with code."
   ]
  },
  {
   "cell_type": "raw",
   "id": "aa2f2ef0",
   "metadata": {},
   "source": [
    "In hybrid inheritance,subclass inherits from multiple base classes "
   ]
  },
  {
   "cell_type": "code",
   "execution_count": 1,
   "id": "4a85f126",
   "metadata": {},
   "outputs": [
    {
     "name": "stdout",
     "output_type": "stream",
     "text": [
      "Parent 1 method\n",
      "Parent 2 method\n",
      "Child method\n",
      "Grandchild method\n"
     ]
    }
   ],
   "source": [
    "# Parent class 1\n",
    "class Parent1:\n",
    "    def method1(self):\n",
    "        print(\"Parent 1 method\")\n",
    "\n",
    "# Parent class 2\n",
    "class Parent2:\n",
    "    def method2(self):\n",
    "        print(\"Parent 2 method\")\n",
    "\n",
    "# Child class inheriting from Parent1 and Parent2\n",
    "class Child(Parent1, Parent2):\n",
    "    def method3(self):\n",
    "        print(\"Child method\")\n",
    "\n",
    "# Grandchild class inheriting from Child\n",
    "class GrandChild(Child):\n",
    "    def method4(self):\n",
    "        print(\"Grandchild method\")\n",
    "\n",
    "# Creating objects and testing methods\n",
    "gc = GrandChild()\n",
    "gc.method1()  # Accessing Parent1's method\n",
    "gc.method2()  # Accessing Parent2's method\n",
    "gc.method3()  # Accessing Child's method\n",
    "gc.method4()  # Accessing Grandchild's method\n"
   ]
  },
  {
   "cell_type": "code",
   "execution_count": null,
   "id": "e1a71c98",
   "metadata": {},
   "outputs": [],
   "source": []
  }
 ],
 "metadata": {
  "kernelspec": {
   "display_name": "Python 3 (ipykernel)",
   "language": "python",
   "name": "python3"
  },
  "language_info": {
   "codemirror_mode": {
    "name": "ipython",
    "version": 3
   },
   "file_extension": ".py",
   "mimetype": "text/x-python",
   "name": "python",
   "nbconvert_exporter": "python",
   "pygments_lexer": "ipython3",
   "version": "3.10.9"
  }
 },
 "nbformat": 4,
 "nbformat_minor": 5
}
